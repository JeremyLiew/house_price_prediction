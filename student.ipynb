{
 "cells": [
  {
   "cell_type": "markdown",
   "metadata": {
    "id": "Qukd5vSg_aPk"
   },
   "source": [
    "# Machine Learning: Supervised"
   ]
  },
  {
   "cell_type": "markdown",
   "metadata": {
    "id": "rRo52XMN_aPr"
   },
   "source": [
    "![](https://i163.photobucket.com/albums/t281/kyin_album/m1_1.png)"
   ]
  },
  {
   "cell_type": "markdown",
   "metadata": {
    "id": "e3eNuT24_aPr"
   },
   "source": [
    "![](https://i163.photobucket.com/albums/t281/kyin_album/m6.png)"
   ]
  },
  {
   "cell_type": "markdown",
   "metadata": {
    "id": "I7HTIXPr_aPs"
   },
   "source": [
    "# <font color=\"blue\"> Case 1: House Price Prediction (1 feature)"
   ]
  },
  {
   "cell_type": "markdown",
   "metadata": {
    "id": "jNXt6KT5_aPs"
   },
   "source": [
    "In this example, we'll use a linear regression model to predict housing prices based on 1 feature.\n",
    "\n",
    "First, make sure you have scikit-learn installed. You can install it using pip:"
   ]
  },
  {
   "cell_type": "code",
   "execution_count": 1,
   "metadata": {
    "id": "1qxYQ2Wk_aPt"
   },
   "outputs": [
    {
     "name": "stdout",
     "output_type": "stream",
     "text": [
      "Requirement already satisfied: scikit-learn in c:\\users\\tarumt\\anaconda3\\lib\\site-packages (1.0.2)\n",
      "Requirement already satisfied: threadpoolctl>=2.0.0 in c:\\users\\tarumt\\anaconda3\\lib\\site-packages (from scikit-learn) (2.2.0)\n",
      "Requirement already satisfied: scipy>=1.1.0 in c:\\users\\tarumt\\anaconda3\\lib\\site-packages (from scikit-learn) (1.9.1)\n",
      "Requirement already satisfied: joblib>=0.11 in c:\\users\\tarumt\\anaconda3\\lib\\site-packages (from scikit-learn) (1.1.0)\n",
      "Requirement already satisfied: numpy>=1.14.6 in c:\\users\\tarumt\\anaconda3\\lib\\site-packages (from scikit-learn) (1.21.5)\n",
      "Note: you may need to restart the kernel to use updated packages.\n"
     ]
    }
   ],
   "source": [
    "pip install scikit-learn"
   ]
  },
  {
   "cell_type": "markdown",
   "metadata": {
    "id": "s2WzFN1m_aPx"
   },
   "source": [
    "## Step 1: Prepare the data"
   ]
  },
  {
   "cell_type": "code",
   "execution_count": 2,
   "metadata": {
    "id": "ki59aYaw_aPy"
   },
   "outputs": [],
   "source": [
    "# Importing necessary libraries\n",
    "import numpy as np\n",
    "from sklearn.model_selection import train_test_split\n",
    "from sklearn.linear_model import LinearRegression\n",
    "from sklearn.metrics import mean_squared_error\n",
    "\n",
    "# Sample dataset: housing prices (target) based on house size (feature)\n",
    "house_sizes = np.array([550, 600, 650, 700, 750, 800, 850, 900, 950, 1000])\n",
    "prices = np.array([300000, 410000, 530000, 510000, 540000, 610000, 730000, 760000, 830000, 860000])"
   ]
  },
  {
   "cell_type": "code",
   "execution_count": 3,
   "metadata": {
    "id": "SrXtbgkY_aPy"
   },
   "outputs": [
    {
     "data": {
      "image/png": "[encoded data removed]",
      "text/plain": [
       "<Figure size 640x480 with 1 Axes>"
      ]
     },
     "metadata": {},
     "output_type": "display_data"
    }
   ],
   "source": [
    "#plot graph prices against house_prices\n",
    "\n",
    "import numpy as np\n",
    "import matplotlib.pyplot as plt\n",
    "\n",
    "# Create a scatter plot\n",
    "plt.scatter(house_sizes, prices, color='b', label='Data Points')\n",
    "plt.xlabel('House Size')\n",
    "plt.ylabel('Prices')\n",
    "plt.title('House Prices vs. House Sizes')\n",
    "plt.legend()\n",
    "plt.grid(True)\n",
    "plt.show()"
   ]
  },
  {
   "cell_type": "markdown",
   "metadata": {
    "id": "TcHKYbtQ_aPz"
   },
   "source": [
    "## Step 2 & 3 : Feature Extraction and Split the data (into training and testing set)"
   ]
  },
  {
   "cell_type": "code",
   "execution_count": 4,
   "metadata": {
    "id": "ULdhzNjz_aPz"
   },
   "outputs": [
    {
     "name": "stdout",
     "output_type": "stream",
     "text": [
      "[[ 550]\n",
      " [ 600]\n",
      " [ 650]\n",
      " [ 700]\n",
      " [ 750]\n",
      " [ 800]\n",
      " [ 850]\n",
      " [ 900]\n",
      " [ 950]\n",
      " [1000]]\n"
     ]
    }
   ],
   "source": [
    "# Reshape the feature array to match the input format required by scikit-learn\n",
    "X = house_sizes.reshape(-1, 1)\n",
    "print (X)\n",
    "\n",
    "# Split the dataset into training and testing sets (80% train, 20% test)\n",
    "X_train, X_test, y_train, y_test = train_test_split(X, prices, test_size=0.2, random_state=42)"
   ]
  },
  {
   "cell_type": "markdown",
   "metadata": {
    "id": "_kRRMwQU_aP0"
   },
   "source": [
    "## Step 4: Fit model and predict outcomes [Code]"
   ]
  },
  {
   "cell_type": "code",
   "execution_count": 5,
   "metadata": {
    "id": "4lWSppZb_aP0"
   },
   "outputs": [
    {
     "name": "stdout",
     "output_type": "stream",
     "text": [
      "['950.00', '600.00']\n",
      "['813793.10', '396206.90']\n"
     ]
    }
   ],
   "source": [
    "# Create the linear regression model\n",
    "model = LinearRegression()\n",
    "\n",
    "# Train the model using the training data\n",
    "model.fit(X_train, y_train)\n",
    "\n",
    "# Make predictions on the test data\n",
    "y_pred = model.predict(X_test)\n",
    "\n",
    "# Formatting X_test\n",
    "formatted_X_test = [\"%.2f\" % x for x in X_test]\n",
    "print(formatted_X_test)\n",
    "\n",
    "# Formatting y_pred\n",
    "formatted_y_pred = [\"%.2f\" % y for y in y_pred]\n",
    "print(formatted_y_pred)"
   ]
  },
  {
   "cell_type": "markdown",
   "metadata": {
    "id": "96clG8CX_aP1"
   },
   "source": [
    "## Step 5: Evaluate the model [Code]"
   ]
  },
  {
   "cell_type": "code",
   "execution_count": 6,
   "metadata": {
    "id": "ErAI4htG_aP3"
   },
   "outputs": [
    {
     "name": "stdout",
     "output_type": "stream",
     "text": [
      "Mean Squared Error: 226456599.29\n"
     ]
    }
   ],
   "source": [
    "from sklearn.metrics import mean_squared_error\n",
    "mse = mean_squared_error(y_test, y_pred)\n",
    "\n",
    "# Calculate the Mean Squared Error (MSE) as a measure of the model's performancemse = mean_squared_error(y_test, y_pred)\n",
    "# Display the MSE with two decimal places using string formatting\n",
    "formatted_mse = \"%.2f\" % mse\n",
    "print(f\"Mean Squared Error: {formatted_mse}\")"
   ]
  },
  {
   "cell_type": "markdown",
   "metadata": {
    "id": "wFyarfgKxeTC"
   },
   "source": [
    "# Step 6: Predict unseen data"
   ]
  },
  {
   "cell_type": "code",
   "execution_count": 7,
   "metadata": {
    "id": "Cr8bySl4xeow"
   },
   "outputs": [
    {
     "name": "stdout",
     "output_type": "stream",
     "text": [
      "Predicted Value: 1112068.97\n"
     ]
    }
   ],
   "source": [
    "# Assuming you have a single unseen data point represented as a list\n",
    "unseen_data = [1200]\n",
    "\n",
    "# Reshape the unseen_data to a 2D array\n",
    "unseen_data_reshaped = np.array(unseen_data).reshape(1, -1)\n",
    "\n",
    "# Predict the target value for the unseen data point\n",
    "predicted_value = model.predict(unseen_data_reshaped)\n",
    "\n",
    "# Print the predicted value\n",
    "print(f\"Predicted Value: {predicted_value[0]:.2f}\")"
   ]
  },
  {
   "cell_type": "markdown",
   "metadata": {},
   "source": [
    "# Additional"
   ]
  },
  {
   "cell_type": "markdown",
   "metadata": {},
   "source": [
    "Store the model using joblib or pickle"
   ]
  },
  {
   "cell_type": "code",
   "execution_count": 8,
   "metadata": {},
   "outputs": [],
   "source": [
    "from joblib import dump, load"
   ]
  },
  {
   "cell_type": "code",
   "execution_count": 9,
   "metadata": {},
   "outputs": [
    {
     "data": {
      "text/plain": [
       "['linear_regression_model.joblib']"
      ]
     },
     "execution_count": 9,
     "metadata": {},
     "output_type": "execute_result"
    }
   ],
   "source": [
    "dump(model, 'linear_regression_model.joblib')"
   ]
  },
  {
   "cell_type": "markdown",
   "metadata": {},
   "source": [
    "Load the model and predict"
   ]
  },
  {
   "cell_type": "code",
   "execution_count": 10,
   "metadata": {},
   "outputs": [
    {
     "name": "stdout",
     "output_type": "stream",
     "text": [
      "Enter house size:20000\n",
      "Predicted Value: 23542413.79\n"
     ]
    }
   ],
   "source": [
    "model = load('linear_regression_model.joblib')\n",
    "user_input = int(input (\"Enter house size:\"))\n",
    "input_array = np.array([user_input]).reshape(-1, 1)\n",
    "predicted_price = model.predict(input_array)\n",
    "print(f\"Predicted Value: {predicted_price[0]:.2f}\")"
   ]
  },
  {
   "cell_type": "markdown",
   "metadata": {},
   "source": [
    "# Deployment"
   ]
  },
  {
   "cell_type": "markdown",
   "metadata": {},
   "source": [
    "You can deploy into Streamlit or Flask. <br>\n",
    "Streamlit is an open-source app framework specifically designed for Machine Learning and Data Science projects. It allows data scientists and developers to create beautiful, interactive web apps quickly and with fewer lines of code. Streamlit’s simplicity and efficiency make it a popular choice for building data-driven web applications without the need for in-depth knowledge of web development frameworks.\n",
    "\n",
    "Flask is a lightweight WSGI (Web Server Gateway Interface) web application framework. It is designed to make getting started with web application development quick and easy, with the ability to scale up to complex applications. Flask provides the tools, libraries, and technologies to build a web application. It allows developers to build web applications in Python, offering flexibility and choice in how the applications are built."
   ]
  },
  {
   "cell_type": "markdown",
   "metadata": {},
   "source": [
    "Follow instruction by tutor"
   ]
  },
  {
   "cell_type": "markdown",
   "metadata": {},
   "source": [
    "1) Register Stremlit and github account"
   ]
  },
  {
   "cell_type": "markdown",
   "metadata": {},
   "source": [
    "2) Requirements <br>\n",
    "streamlit <br>\n",
    "joblib <br>\n",
    "numpy <br>\n",
    "scikit-learn <br>"
   ]
  },
  {
   "cell_type": "code",
   "execution_count": 11,
   "metadata": {},
   "outputs": [
    {
     "ename": "SyntaxError",
     "evalue": "unmatched ')' (157502134.py, line 1)",
     "output_type": "error",
     "traceback": [
      "\u001b[1;36m  File \u001b[1;32m\"C:\\Users\\TARUMT\\AppData\\Local\\Temp\\ipykernel_13556\\157502134.py\"\u001b[1;36m, line \u001b[1;32m1\u001b[0m\n\u001b[1;33m    3)Streamlit script\u001b[0m\n\u001b[1;37m     ^\u001b[0m\n\u001b[1;31mSyntaxError\u001b[0m\u001b[1;31m:\u001b[0m unmatched ')'\n"
     ]
    }
   ],
   "source": [
    "3)Streamlit script\n",
    "\n",
    "import streamlit as st\n",
    "from joblib import load\n",
    "import numpy as np\n",
    "\n",
    "# Load the model\n",
    "model = load('linear_regression_model.joblib')\n",
    "\n",
    "# Create a simple user input\n",
    "user_input = st.number_input('Enter house size:', min_value=100, max_value=10000, step=50)\n",
    "\n",
    "# Reshape the input for the model\n",
    "input_array = np.array([user_input]).reshape(-1, 1)\n",
    "\n",
    "# Predict the house price\n",
    "if st.button('Predict Price'):\n",
    "    predicted_price = model.predict(input_array)\n",
    "    st.write(f\"The predicted house price is: ${predicted_price[0]:.2f}\")"
   ]
  },
  {
   "cell_type": "markdown",
   "metadata": {},
   "source": [
    "4) Upload into streamlit"
   ]
  },
  {
   "cell_type": "markdown",
   "metadata": {
    "id": "GSSWB4c8_aP3"
   },
   "source": [
    "# <font color=\"blue\"> Case 2: House Price Prediction (2 features)"
   ]
  },
  {
   "cell_type": "markdown",
   "metadata": {
    "id": "ryN1LShX_aP3"
   },
   "source": [
    "In the previous example, we used only one feature, which was the house size, to predict the house prices. This is called a univariate regression. To improve the model's performance, we can use multiple features, which is called a multivariate regression.\n",
    "\n",
    "For instance, we can use additional features like the number of bedrooms, location, age of the house, etc., to make a more accurate prediction of the house prices. Using more relevant features often leads to better predictions.\n",
    "\n",
    "Here's an example of how you can modify the previous code to use two features (house size and number of bedrooms) to predict house prices:"
   ]
  },
  {
   "cell_type": "code",
   "execution_count": null,
   "metadata": {
    "id": "27wBPBWm_aP4"
   },
   "outputs": [],
   "source": [
    "import numpy as np\n",
    "from sklearn.model_selection import train_test_split\n",
    "from sklearn.linear_model import LinearRegression\n",
    "from sklearn.metrics import mean_squared_error\n",
    "\n",
    "# Sample dataset: house sizes and number of bedrooms as features, and prices as the target variable\n",
    "# Feature 1\n",
    "house_sizes = np.array([550, 600, 650, 700, 750, 800, 850, 900, 950, 1000])\n",
    "\n",
    "# Complete by student (Feature 2)\n",
    "# Simulate num_bedrooms, you may create more relevant features by your own\n",
    "num_bedrooms = np.array([, , , , , , , , , ])\n",
    "\n",
    "# add more feature, e.g number of bathrooms, years etc\n",
    "\n",
    "# You shall modify the values of label\n",
    "prices = np.array([300000, 450000, 500000, 550000, 600000, 650000, 700000, 750000, 800000, 850000])"
   ]
  },
  {
   "cell_type": "code",
   "execution_count": null,
   "metadata": {
    "id": "GfXgliuJ_aP4"
   },
   "outputs": [],
   "source": [
    "#plot graph\n",
    "\n",
    "import numpy as np\n",
    "import matplotlib.pyplot as plt\n",
    "from mpl_toolkits.mplot3d import Axes3D\n",
    "\n",
    "# Sample dataset: house sizes and number of bedrooms as features, and prices as the target variable\n",
    "house_sizes = np.array([550, 600, 650, 700, 750, 800, 850, 900, 950, 1000])\n",
    "num_bedrooms = np.array([, , , , , , , , , ])\n",
    "prices = np.array([300000, 450000, 500000, 550000, 600000, 650000, 700000, 750000, 800000, 850000])\n",
    "\n",
    "# Create a 3D scatter plot\n",
    "fig = plt.figure()\n",
    "ax = fig.add_subplot(111, projection='3d')\n",
    "\n",
    "# Scatter plot points with house_sizes and num_bedrooms as X and Y, and prices as Z\n",
    "ax.scatter(house_sizes, num_bedrooms, prices, c='r', marker='o')\n",
    "\n",
    "# Labels for axes\n",
    "ax.set_xlabel('House Sizes')\n",
    "ax.set_ylabel('Number of Bedrooms')\n",
    "ax.set_zlabel('Prices')\n",
    "\n",
    "# Add dotted lines from data points to respective values on X and Y axes\n",
    "for i in range(len(house_sizes)):\n",
    "    ax.plot([house_sizes[i], house_sizes[i]], [num_bedrooms[i], num_bedrooms[i]], [0, prices[i]], c='gray', linestyle='dotted', alpha=0.5)\n",
    "    ax.plot([house_sizes[i], house_sizes[i]], [0, num_bedrooms[i]], [prices[i], prices[i]], c='gray', linestyle='dotted', alpha=0.5)\n",
    "    ax.plot([0, house_sizes[i]], [num_bedrooms[i], num_bedrooms[i]], [prices[i], prices[i]], c='gray', linestyle='dotted', alpha=0.5)\n",
    "\n",
    "plt.title('House Prices vs. House Sizes and Number of Bedrooms')\n",
    "plt.show()"
   ]
  },
  {
   "cell_type": "code",
   "execution_count": null,
   "metadata": {
    "id": "WJ3BcpXs_aP4"
   },
   "outputs": [],
   "source": [
    "# Complete the following code\n",
    "\n",
    "# Combining the two features into a single feature matrix X\n",
    "X = np.column_stack((house_sizes, num_bedrooms))\n",
    "print (X)\n",
    "\n",
    "# Split the dataset into training and testing sets (80% train, 20% test)\n",
    "X_train, X_test, y_train, y_test =\n",
    "\n",
    "# Create the linear regression model\n",
    "model =\n",
    "\n",
    "# Train the model using the training data\n",
    "model.fit\n",
    "\n",
    "# Make predictions on the test data\n",
    "y_pred =\n",
    "\n",
    "# Display the values with two decimal places using string formatting\n",
    "formatted_X_test = np.array([[\"%.2f\" % x[0], \"%.2f\" % x[1]] for x in X_test])\n",
    "formatted_y_pred = [\"%.2f\" % y for y in y_pred]\n",
    "\n",
    "print(\"Formatted X_test:\")\n",
    "print(formatted_X_test)\n",
    "\n",
    "print(\"Formatted y_pred:\")\n",
    "print(formatted_y_pred)\n",
    "\n",
    "# Calculate the Mean Squared Error (MSE) as a measure of the model's performance\n",
    "formatted_mse = \"%.2f\" % mse\n",
    "print(f\"Mean Squared Error: {formatted_mse}\")"
   ]
  },
  {
   "cell_type": "markdown",
   "metadata": {
    "id": "chgfBabQ_aP5"
   },
   "source": [
    "# <font color=\"blue\"> Case 3: Spam Prediction"
   ]
  },
  {
   "cell_type": "markdown",
   "metadata": {
    "id": "CiB13pf5_aP5"
   },
   "source": [
    "## Step 1: Prepare the data\n",
    "\n"
   ]
  },
  {
   "cell_type": "code",
   "execution_count": null,
   "metadata": {
    "id": "iWne4pki_aP5"
   },
   "outputs": [],
   "source": [
    "# make sure the data is labeled\n",
    "import pandas as pd\n",
    "data = pd.read_table('spam.txt',encoding='windows-1252', header=None)\n",
    "data.columns = ['label', 'text']\n",
    "print(data.head())\n",
    "len(data)"
   ]
  },
  {
   "cell_type": "code",
   "execution_count": null,
   "metadata": {
    "id": "MOXhklmZ_aP5"
   },
   "outputs": [],
   "source": [
    "# remove words with numbers, punctuation and capital letters\n",
    "import re\n",
    "import string\n",
    "\n",
    "alphanumeric = lambda x: re.sub(r\"\"\"\\w*\\d\\w*\"\"\", ' ', x)  #another method function\n",
    "punc_lower = lambda x: re.sub('[%s]' % re.escape(string.punctuation), ' ', x.lower())\n",
    "data['text'] = data.text.map(alphanumeric).map(punc_lower)\n",
    "print(data.head())"
   ]
  },
  {
   "cell_type": "markdown",
   "metadata": {
    "id": "ShxIfLEo_aP5"
   },
   "source": [
    "## Step 2: Split the data (into training and testing set)"
   ]
  },
  {
   "cell_type": "markdown",
   "metadata": {
    "id": "qTr2tzsL_aP6"
   },
   "source": [
    "<Font color=\"Blue\">__Input__: Features, Predictors, Independent Variables, X's <br>\n",
    "<Font color=\"orange\">__Outputs__: Label, Outcome, Dependent Variable, Y\n",
    "    \n",
    "![](https://i163.photobucket.com/albums/t281/kyin_album/m2.png)"
   ]
  },
  {
   "cell_type": "code",
   "execution_count": null,
   "metadata": {
    "id": "JqnWas-5_aP6"
   },
   "outputs": [],
   "source": [
    "# split the data into feature and label\n",
    "X = data.text # inputs into model\n",
    "y = data.label # output of model"
   ]
  },
  {
   "cell_type": "code",
   "execution_count": null,
   "metadata": {
    "id": "xYTPUkxa_aP6"
   },
   "outputs": [],
   "source": [
    "X.head()"
   ]
  },
  {
   "cell_type": "code",
   "execution_count": null,
   "metadata": {
    "id": "g5sMMZeG_aP6"
   },
   "outputs": [],
   "source": [
    "X.shape"
   ]
  },
  {
   "cell_type": "code",
   "execution_count": null,
   "metadata": {
    "id": "kD0975Rc_aP6"
   },
   "outputs": [],
   "source": [
    "y.head()"
   ]
  },
  {
   "cell_type": "markdown",
   "metadata": {
    "id": "WtQd-VyV_aP6"
   },
   "source": [
    "## Overfitting\n",
    "\n",
    "![](https://i163.photobucket.com/albums/t281/kyin_album/m3.png)"
   ]
  },
  {
   "cell_type": "markdown",
   "metadata": {
    "id": "aaOJV9Xl_aP7"
   },
   "source": [
    "![](https://i163.photobucket.com/albums/t281/kyin_album/m4.png)"
   ]
  },
  {
   "cell_type": "markdown",
   "metadata": {
    "id": "gFIeYDnH_aP7"
   },
   "source": [
    "# Split the data [Code]"
   ]
  },
  {
   "cell_type": "code",
   "execution_count": null,
   "metadata": {
    "id": "hZKtJrhn_aP7"
   },
   "outputs": [],
   "source": [
    "# split the data into a training and test set\n",
    "from sklearn.model_selection import train_test_split\n",
    "X_train, X_test, y_train, y_test = train_test_split(X, y, test_size=0.3, random_state=42)\n",
    "# test size = 30% of observations, which means training size = 70% of observations\n",
    "# random state = 42, so we all get the same random train / test split"
   ]
  },
  {
   "cell_type": "code",
   "execution_count": null,
   "metadata": {
    "id": "xR0WzdnT_aP7"
   },
   "outputs": [],
   "source": [
    "X_train.head()"
   ]
  },
  {
   "cell_type": "code",
   "execution_count": null,
   "metadata": {
    "id": "qRbIPaMb_aP7"
   },
   "outputs": [],
   "source": [
    "X_train.shape"
   ]
  },
  {
   "cell_type": "code",
   "execution_count": null,
   "metadata": {
    "id": "0oIblFwE_aP7"
   },
   "outputs": [],
   "source": [
    "y_train.head()"
   ]
  },
  {
   "cell_type": "code",
   "execution_count": null,
   "metadata": {
    "id": "cK3d6sRt_aP8"
   },
   "outputs": [],
   "source": [
    "y_train.shape"
   ]
  },
  {
   "cell_type": "code",
   "execution_count": null,
   "metadata": {
    "id": "OAzfqEH1_aP8"
   },
   "outputs": [],
   "source": [
    "X_test.shape"
   ]
  },
  {
   "cell_type": "code",
   "execution_count": null,
   "metadata": {
    "id": "dCsxdmUq_aP8"
   },
   "outputs": [],
   "source": [
    "y_test.shape"
   ]
  },
  {
   "cell_type": "markdown",
   "metadata": {
    "id": "mogYM1gJ_aP8"
   },
   "source": [
    "## Step 3: Numerically encode the input data [Code]"
   ]
  },
  {
   "cell_type": "code",
   "execution_count": null,
   "metadata": {
    "id": "gkMkD2qp_aP9"
   },
   "outputs": [],
   "source": [
    "X_test"
   ]
  },
  {
   "cell_type": "code",
   "execution_count": null,
   "metadata": {
    "id": "4yUmUi_5_aP9"
   },
   "outputs": [],
   "source": [
    "from sklearn.feature_extraction.text import CountVectorizer\n",
    "cv = CountVectorizer(stop_words='english')\n",
    "X_train_cv = cv.fit_transform(X_train)\n",
    "X_test_cv = cv.transform(X_test) # transform uses the same vocab and one-hot encodes\n",
    "# print the dimensions of the training set (text messages, terms)\n",
    "print(X_train_cv.toarray().shape)"
   ]
  },
  {
   "cell_type": "code",
   "execution_count": null,
   "metadata": {
    "id": "_ree7yYM_aP9"
   },
   "outputs": [],
   "source": [
    "type(X_train_cv)\n",
    "import scipy.sparse\n",
    "pd.DataFrame.sparse.from_spmatrix(X_test_cv)"
   ]
  },
  {
   "cell_type": "code",
   "execution_count": null,
   "metadata": {
    "id": "DVDjgj9v_aP9"
   },
   "outputs": [],
   "source": [
    "help(cv.fit_transform)"
   ]
  },
  {
   "cell_type": "markdown",
   "metadata": {
    "id": "RQ9968mB_aP9"
   },
   "source": [
    "## Step 4: Fit model and predict outcomes [Code]"
   ]
  },
  {
   "cell_type": "code",
   "execution_count": null,
   "metadata": {
    "id": "6y23sVST_aP-"
   },
   "outputs": [],
   "source": [
    "# Use a logistic regression model (categorical)\n",
    "from sklearn.linear_model import LogisticRegression\n",
    "lr = LogisticRegression()\n",
    "\n",
    "# Train the model\n",
    "lr.fit(X_train_cv, y_train) #= train\n",
    "\n",
    "# Take the model that was trained on the X_train_cv data and apply it to the X_test_cv\n",
    "y_pred_cv = lr.predict(X_test_cv)\n",
    "y_pred_cv # The output is all of the predictions/ labels"
   ]
  },
  {
   "cell_type": "markdown",
   "metadata": {
    "id": "wf0geRNQ_aP-"
   },
   "source": [
    "## Step 5: Evaluate the model"
   ]
  },
  {
   "cell_type": "markdown",
   "metadata": {
    "id": "8bfvovt3_aP-"
   },
   "source": [
    "![](https://i163.photobucket.com/albums/t281/kyin_album/m5.png)"
   ]
  },
  {
   "cell_type": "markdown",
   "metadata": {
    "id": "eYIf_ARn_aP-"
   },
   "source": [
    "# Step 5: Evaluate the model [Code]"
   ]
  },
  {
   "cell_type": "code",
   "execution_count": null,
   "metadata": {
    "id": "J1SYmZ8F_aP-"
   },
   "outputs": [],
   "source": [
    "from sklearn.metrics import confusion_matrix\n",
    "import seaborn as sns\n",
    "# import matplotlib.pyplot as plt\n",
    "# %matplotlib inline\n",
    "#Provided you are running IPython, the %matplotlib inline will make your plot outputs appear and be stored within the notebook\n",
    "cm = confusion_matrix(y_test, y_pred_cv)   #y_test is the label of testing data, y_pred_cv is the predicted ans from the ML with testing set\n",
    "sns.heatmap(cm, xticklabels=['predicted_ham', 'predicted_spam'], yticklabels=['actual_ham', 'actual_spam'],\n",
    "annot=True, fmt='d', annot_kws={'fontsize':20}, cmap=\"YlGnBu\");\n",
    "\n",
    "true_neg, false_pos = cm[0]\n",
    "false_neg, true_pos = cm[1]\n",
    "accuracy = round((true_pos + true_neg) / (true_pos + true_neg + false_pos + false_neg),3)\n",
    "precision = round((true_pos) / (true_pos + false_pos),3)\n",
    "recall = round((true_pos) / (true_pos + false_neg),3)\n",
    "f1 = round(2 * (precision * recall) / (precision + recall),3)\n",
    "\n",
    "print('Accuracy: {}'.format(accuracy))\n",
    "print('Precision: {}'.format(precision))\n",
    "print('Recall: {}'.format(recall))\n",
    "print('F1 Score: {}'.format(f1))"
   ]
  },
  {
   "cell_type": "markdown",
   "metadata": {
    "id": "GukXdarU_aP_"
   },
   "source": [
    "## Step 6: Predict new input [Code]"
   ]
  },
  {
   "cell_type": "code",
   "execution_count": null,
   "metadata": {
    "id": "oICXUnOn_aP_"
   },
   "outputs": [],
   "source": [
    "import pandas as pd\n",
    "from pandas import DataFrame\n",
    "S0 = \"Free entry in 2 a wkly comp to win FA Cup final tkts 21st\"\n",
    "df = pd.DataFrame(columns=[S0])\n",
    "print (df)\n",
    "df.head()\n",
    "\n",
    "Snew = cv.transform(df)\n",
    "result = lr.predict(Snew)\n",
    "\n",
    "print(result)\n",
    "\n",
    "#modify the code to promtp user input for prediction"
   ]
  },
  {
   "cell_type": "markdown",
   "metadata": {
    "id": "DTxlD3zG_aP_"
   },
   "source": [
    "# <font color=\"blue\"> __Other Algorithm: Naive Bayes__"
   ]
  },
  {
   "cell_type": "markdown",
   "metadata": {
    "id": "qH4_Dixn_aP_"
   },
   "source": [
    "# Naive Bayes [code]"
   ]
  },
  {
   "cell_type": "code",
   "execution_count": null,
   "metadata": {
    "id": "LDKS00pQ_aP_"
   },
   "outputs": [],
   "source": [
    "# Use a Naive Bayes model\n",
    "from sklearn.naive_bayes import MultinomialNB\n",
    "import numpy as np\n",
    "nb = MultinomialNB()\n",
    "\n",
    "# Train the model\n",
    "nb.fit(X_train_cv, y_train)\n",
    "# Take the model that was trained on the X_train_cv data and apply it to the X_test_cv\n",
    "\n",
    "y_pred_cv_nb = nb.predict(X_test_cv)\n",
    "y_pred_cv_nb # The output is all of the predictions"
   ]
  },
  {
   "cell_type": "markdown",
   "metadata": {
    "id": "G5JmwP1B_aP_"
   },
   "source": [
    "# Naive Bayes: Results"
   ]
  },
  {
   "cell_type": "code",
   "execution_count": null,
   "metadata": {
    "id": "oXIb5HUb_aQA"
   },
   "outputs": [],
   "source": [
    "cm = confusion_matrix(y_test, y_pred_cv_nb)\n",
    "sns.heatmap(cm, xticklabels=['predicted_ham', 'predicted_spam'], yticklabels=['actual_ham', 'actual_spam'],\n",
    "annot=True, fmt='d', annot_kws={'fontsize':20}, cmap=\"YlGnBu\");\n",
    "true_neg, false_pos = cm[0]\n",
    "false_neg, true_pos = cm[1]\n",
    "accuracy = round((true_pos + true_neg) / (true_pos + true_neg + false_pos + false_neg),3)\n",
    "precision = round((true_pos) / (true_pos + false_pos),3)\n",
    "recall = round((true_pos) / (true_pos + false_neg),3)\n",
    "f1 = round(2 * (precision * recall) / (precision + recall),3)\n",
    "print('Accuracy: {}'.format(accuracy))\n",
    "print('Precision: {}'.format(precision))\n",
    "print('Recall: {}'.format(recall))\n",
    "print('F1 Score: {}'.format(f1))\n",
    "\n",
    "NBscore = nb.score(X_test_cv, y_test)"
   ]
  },
  {
   "cell_type": "markdown",
   "metadata": {
    "id": "3ayF25OT_aQA"
   },
   "source": [
    "# <font color=\"red\"> Machine Learning and NLP Exercises"
   ]
  },
  {
   "cell_type": "markdown",
   "metadata": {
    "id": "Z1wJBNum_aQA"
   },
   "source": [
    "# Introduction\n",
    "\n",
    "We will be using the same review data set from Kaggle for this exercise. The product we'll focus on this time is a cappuccino cup.\n",
    "\n",
    "The following code will help you load in the data.\n"
   ]
  },
  {
   "cell_type": "code",
   "execution_count": null,
   "metadata": {
    "id": "k0nC5ouJ_aQA"
   },
   "outputs": [],
   "source": [
    "import nltk\n",
    "import pandas as pd"
   ]
  },
  {
   "cell_type": "code",
   "execution_count": null,
   "metadata": {
    "id": "CTAqTj6u_aQA"
   },
   "outputs": [],
   "source": [
    "data = pd.read_csv('coffee.csv')\n",
    "data.head()"
   ]
  },
  {
   "cell_type": "markdown",
   "metadata": {
    "id": "Zis4rEjF_aQB"
   },
   "source": [
    "# Question 1\n",
    "\n",
    "- Determine how many reviews there are in total.\n",
    "\n",
    "\n",
    "Use the preprocessing code below to clean the reviews data before moving on to modeling.\n"
   ]
  },
  {
   "cell_type": "code",
   "execution_count": null,
   "metadata": {
    "id": "SqnHa0V-_aQB"
   },
   "outputs": [],
   "source": [
    "# Text preprocessing steps - remove numbers, captial letters and punctuation\n",
    "import re\n",
    "import string\n",
    "\n",
    "alphanumeric = lambda x: re.sub(r\"\"\"\\w*\\d\\w*\"\"\", ' ', x)\n",
    "punc_lower = lambda x: re.sub('[%s]' % re.escape(string.punctuation), ' ', x.lower())\n",
    "\n",
    "data['reviews'] = data.reviews.map(alphanumeric).map(punc_lower)\n",
    "data.head()"
   ]
  },
  {
   "cell_type": "code",
   "execution_count": null,
   "metadata": {
    "id": "OHGBEiMu_aQB"
   },
   "outputs": [],
   "source": [
    "type(data)"
   ]
  },
  {
   "cell_type": "markdown",
   "metadata": {
    "id": "187m8DpW_aQB"
   },
   "source": [
    "# Question 2: Classsification *(20% testing, 80% training)*\n",
    "\n",
    "Processes for classification"
   ]
  },
  {
   "cell_type": "markdown",
   "metadata": {
    "id": "nS-UxSga_aQB"
   },
   "source": [
    "### <font color=\"Blue\">Step 1:</font> Prepare the data (identify the feature and label)"
   ]
  },
  {
   "cell_type": "code",
   "execution_count": null,
   "metadata": {
    "id": "SJwmu9Bz_aQB"
   },
   "outputs": [],
   "source": []
  },
  {
   "cell_type": "markdown",
   "metadata": {
    "id": "0EufKaf1_aQC"
   },
   "source": [
    "### <font color=\"Blue\">Step 2:</font> Split the data into training and testing sets"
   ]
  },
  {
   "cell_type": "code",
   "execution_count": null,
   "metadata": {
    "id": "iHDJsFOa_aQC"
   },
   "outputs": [],
   "source": []
  },
  {
   "cell_type": "markdown",
   "metadata": {
    "id": "mrQhIyxy_aQC"
   },
   "source": [
    "### <font color=\"Blue\">Step 3:</font> Vectorize the feature"
   ]
  },
  {
   "cell_type": "code",
   "execution_count": null,
   "metadata": {
    "id": "f0P5u68__aQC"
   },
   "outputs": [],
   "source": []
  },
  {
   "cell_type": "markdown",
   "metadata": {
    "id": "tztryg07_aQC"
   },
   "source": [
    "### <font color=\"Blue\">Step 4:</font> Idenfity the model/ classifier to be used. Feed the train data into the model"
   ]
  },
  {
   "cell_type": "markdown",
   "metadata": {
    "id": "Tu18IkCZ_aQC"
   },
   "source": [
    "### - Linear Regression"
   ]
  },
  {
   "cell_type": "code",
   "execution_count": null,
   "metadata": {
    "id": "NHV5fLPS_aQD",
    "scrolled": true
   },
   "outputs": [],
   "source": []
  },
  {
   "cell_type": "markdown",
   "metadata": {
    "id": "NvAUPpoB_aQD"
   },
   "source": [
    "### - SVM"
   ]
  },
  {
   "cell_type": "code",
   "execution_count": null,
   "metadata": {
    "id": "ZM37I0fl_aQD"
   },
   "outputs": [],
   "source": []
  },
  {
   "cell_type": "markdown",
   "metadata": {
    "id": "-oezD5ii_aQD"
   },
   "source": [
    "### - Decision Tree"
   ]
  },
  {
   "cell_type": "code",
   "execution_count": null,
   "metadata": {
    "id": "YgYszCw5_aQD"
   },
   "outputs": [],
   "source": []
  },
  {
   "cell_type": "markdown",
   "metadata": {
    "id": "xd2KXWyZ_aQD"
   },
   "source": [
    "### - Random Forest"
   ]
  },
  {
   "cell_type": "code",
   "execution_count": null,
   "metadata": {
    "id": "8kpQoJt5_aQE"
   },
   "outputs": [],
   "source": []
  },
  {
   "cell_type": "markdown",
   "metadata": {
    "id": "scR8uDo9_aQE"
   },
   "source": [
    "### - KNN"
   ]
  },
  {
   "cell_type": "code",
   "execution_count": null,
   "metadata": {
    "id": "W4d3gyG2_aQE"
   },
   "outputs": [],
   "source": []
  },
  {
   "cell_type": "markdown",
   "metadata": {
    "id": "sKSeAjGY_aQE"
   },
   "source": [
    "### -  Naive Bayes"
   ]
  },
  {
   "cell_type": "code",
   "execution_count": null,
   "metadata": {
    "id": "NqMxx2_u_aQE"
   },
   "outputs": [],
   "source": []
  },
  {
   "cell_type": "markdown",
   "metadata": {
    "id": "WxTiAjBg_aQE"
   },
   "source": [
    "### <font color=\"Blue\">Step 5:</font> Evaluate the Model - Accuracy Measurement\n",
    "Generate the accuracy scores for Linear Regression, SVM, Decision Tree, Random Forest, KNN, and Naive Bayes.  "
   ]
  },
  {
   "cell_type": "code",
   "execution_count": null,
   "metadata": {
    "id": "nJDoUYHT_aQF"
   },
   "outputs": [],
   "source": []
  },
  {
   "cell_type": "markdown",
   "metadata": {
    "id": "ew4rbZix_aQF"
   },
   "source": [
    "__Example Output:__\n",
    "- Accuracy score for LR  = 0.1651\n",
    "- Accuracy score for SVM = 0.5413\n",
    "- Accuracy score for DT  = 0.5505\n",
    "- Accuracy score for RF  = 0.5872\n",
    "- Accuracy score for KNN = 0.5963\n",
    "- Accuracy score for NB  = 0.6514"
   ]
  },
  {
   "cell_type": "markdown",
   "metadata": {
    "id": "2nSTuCmv_aQF"
   },
   "source": [
    "# Question 3\n",
    "Predict the rate of this review,\n",
    "\n",
    "<font color=\"blue\">__\"like Cafe Vienna instant coffee products with the convenience of Keurig. All authorized on-line sellers cannot carry them\"__\n",
    "\n"
   ]
  },
  {
   "cell_type": "markdown",
   "metadata": {
    "id": "EVcO272n_aQF"
   },
   "source": [
    "by using Linear Regression, SVM, Decision Tree, Random Forest, KNN, and Naive Bayes"
   ]
  },
  {
   "cell_type": "code",
   "execution_count": null,
   "metadata": {
    "id": "TLet0tz7_aQF"
   },
   "outputs": [],
   "source": []
  }
 ],
 "metadata": {
  "colab": {
   "provenance": []
  },
  "kernelspec": {
   "display_name": "Python 3 (ipykernel)",
   "language": "python",
   "name": "python3"
  },
  "language_info": {
   "codemirror_mode": {
    "name": "ipython",
    "version": 3
   },
   "file_extension": ".py",
   "mimetype": "text/x-python",
   "name": "python",
   "nbconvert_exporter": "python",
   "pygments_lexer": "ipython3",
   "version": "3.9.13"
  }
 },
 "nbformat": 4,
 "nbformat_minor": 1
}
